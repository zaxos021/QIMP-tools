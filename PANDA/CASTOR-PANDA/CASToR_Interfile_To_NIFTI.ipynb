{
 "cells": [
  {
   "cell_type": "code",
   "execution_count": 36,
   "metadata": {},
   "outputs": [],
   "source": [
    "import numpy as np\n",
    "import nibabel as nib\n",
    "import pydicom as pyd\n",
    "import argparse\n",
    "from matplotlib import pyplot as plt\n",
    "import matplotlib as mpl\n",
    "import glob as glob\n",
    "import os\n",
    "import tqdm \n",
    "\n",
    "# Set Variables\n",
    "precision=np.float32"
   ]
  },
  {
   "cell_type": "code",
   "execution_count": 40,
   "metadata": {},
   "outputs": [],
   "source": [
    "def CastorToNifti(BaseName):\n",
    "    \n",
    "    # Set Header file \n",
    "    hdrPath = BaseName+'.hdr'\n",
    "    # Read Header file\n",
    "\n",
    "    header = dict()\n",
    "    with open (hdrPath) as f:\n",
    "      l = f.readline()\n",
    "      while l:\n",
    "        l = f.readline()\n",
    "        # split keys from values\n",
    "        s = l.split(':=')\n",
    "        if len(s)>1:\n",
    "          # store key-value pair, trim any white spaces\n",
    "          header[s[0].strip().replace('!','')]=s[1].strip()\n",
    "\n",
    "    # Initialise dimensions\n",
    "    # image dimensions (X Y Z)\n",
    "    nbDim = int(header['number of dimensions'])\n",
    "    # number of voxels for each dimension\n",
    "    dimNbVox = np.zeros(nbDim, np.int32)\n",
    "    # voxel size in mm for each dimension\n",
    "    dimVoxSize = np.zeros(nbDim, np.float32)\n",
    "    # offset for the field-of-view in mm\n",
    "    offset = np.zeros(nbDim, np.float32)\n",
    "\n",
    "    # Read image \n",
    "    for d in range(0,nbDim):\n",
    "      dimNbVox[d]=int(header['matrix size [{:d}]'.format(d+1)])\n",
    "      dimVoxSize[d]=float(header['scaling factor (mm/pixel) [{:d}]'.format(d+1)])\n",
    "      offset[d]=float(header['first pixel offset (mm) [{:d}]'.format(d+1)])\n",
    "\n",
    "    #Set Image file \n",
    "\n",
    "    # Set Header file \n",
    "    imgPath = BaseName+'.img'\n",
    "\n",
    "    # Read image \n",
    "    im = np.transpose(np.fromfile(imgPath, dtype=precision, count=-1).reshape(dimNbVox[::-1].tolist()))\n",
    "\n",
    "    # create the final NIfTI image\n",
    "    niftiIm = nib.Nifti1Image(im, affine)\n",
    "    niftiIm.header.set_xyzt_units('mm', 'sec')\n",
    "    # Save the nifty file \n",
    "    nib.save(niftiIm, BaseName+'.nii')\n"
   ]
  },
  {
   "cell_type": "code",
   "execution_count": 41,
   "metadata": {},
   "outputs": [
    {
     "name": "stderr",
     "output_type": "stream",
     "text": [
      "100%|██████████████████████████████████████████████████████████████████████████████████████████████████████| 355/355 [00:37<00:00,  9.47it/s]\n"
     ]
    }
   ],
   "source": [
    "Frames_for_navigator=glob.glob('FramebyFrame_MLEM_ForPANDA/FramebyFrame_MLEM_ForPANDA_it1*.img')\n",
    "\n",
    "for file in tqdm.tqdm(Frames_for_navigator):\n",
    "    BaseName=os.path.splitext(file)[0]\n",
    "    CastorToNifti(BaseName)\n",
    "\n"
   ]
  },
  {
   "cell_type": "code",
   "execution_count": null,
   "metadata": {},
   "outputs": [],
   "source": []
  }
 ],
 "metadata": {
  "kernelspec": {
   "display_name": "Python 3",
   "language": "python",
   "name": "python3"
  },
  "language_info": {
   "codemirror_mode": {
    "name": "ipython",
    "version": 3
   },
   "file_extension": ".py",
   "mimetype": "text/x-python",
   "name": "python",
   "nbconvert_exporter": "python",
   "pygments_lexer": "ipython3",
   "version": "3.7.6"
  }
 },
 "nbformat": 4,
 "nbformat_minor": 4
}
